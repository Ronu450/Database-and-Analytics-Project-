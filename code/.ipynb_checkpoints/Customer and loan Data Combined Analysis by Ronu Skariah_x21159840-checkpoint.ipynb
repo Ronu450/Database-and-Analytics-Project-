{
 "cells": [
  {
   "cell_type": "markdown",
   "id": "83ae986d",
   "metadata": {},
   "source": [
    "## Import Packages"
   ]
  },
  {
   "cell_type": "code",
   "execution_count": 42,
   "id": "021673c7",
   "metadata": {},
   "outputs": [],
   "source": [
    "import pandas as pd\n",
    "from sqlalchemy import create_engine\n",
    "import pymysql\n",
    "import pandas as pd\n",
    "import pyspark\n",
    "from pyspark import SparkContext \n",
    "from pyspark.sql import SparkSession\n",
    "import json\n",
    "import requests\n",
    "import numpy as np\n",
    "import matplotlib.pyplot as plt\n",
    "import seaborn as sns\n",
    "import boto3\n",
    "import findspark\n",
    "\n"
   ]
  },
  {
   "cell_type": "code",
   "execution_count": 43,
   "id": "c4f63db5",
   "metadata": {},
   "outputs": [],
   "source": [
    "'''Reading mysql details from file'''\n",
    "\n",
    "try:        \n",
    "    mysql_config = pd.read_csv('Credentials-AWSS3&SQL\\\\mysql_database.csv')\n",
    "    mysql_config.head()\n",
    "    uname  =mysql_config[\"username\"].values[0]\n",
    "    pwd = mysql_config[\"password\"].values[0]\n",
    "    hostname= mysql_config[\"hostname\"].values[0]\n",
    "    dbname= mysql_config[\"dbname\"].values[0]\n",
    "except ClientError as e:\n",
    "    print(e)\n",
    "except:\n",
    "    print(\"Error occured while reading Secret key and Access Key\")"
   ]
  },
  {
   "cell_type": "code",
   "execution_count": 44,
   "id": "a2109d8a",
   "metadata": {},
   "outputs": [],
   "source": [
    "# Create SQLAlchemy engine to connect to MySQL Database\n",
    "try:\n",
    "    engine = create_engine(\"mysql+pymysql://{user}:{pw}@{host}/{db}\"\n",
    "\t\t\t\t.format(host=hostname, db=dbname, user=uname, pw=pwd))\n",
    "    # Convert dataframe to sql table\n",
    "    final_df = pd.read_sql('''select * from automobile.customer c join automobile.loan l on c.cust_id=l.cust_id;\n",
    "''', engine)\n",
    "except mysql.connector.Error as err:\n",
    "  print(\"Something went wrong: {}\".format(err))\n",
    "except:\n",
    "    print(\"Error Occured while writing data into MySQL db\")"
   ]
  },
  {
   "cell_type": "code",
   "execution_count": 45,
   "id": "e5d0f466",
   "metadata": {},
   "outputs": [
    {
     "data": {
      "text/html": [
       "<div>\n",
       "<style scoped>\n",
       "    .dataframe tbody tr th:only-of-type {\n",
       "        vertical-align: middle;\n",
       "    }\n",
       "\n",
       "    .dataframe tbody tr th {\n",
       "        vertical-align: top;\n",
       "    }\n",
       "\n",
       "    .dataframe thead th {\n",
       "        text-align: right;\n",
       "    }\n",
       "</style>\n",
       "<table border=\"1\" class=\"dataframe\">\n",
       "  <thead>\n",
       "    <tr style=\"text-align: right;\">\n",
       "      <th></th>\n",
       "      <th>cust_id</th>\n",
       "      <th>CLIENTNUM</th>\n",
       "      <th>Attrition_Flag</th>\n",
       "      <th>Customer_Age</th>\n",
       "      <th>Gender</th>\n",
       "      <th>Dependent_count</th>\n",
       "      <th>Education_Level</th>\n",
       "      <th>Marital_Status</th>\n",
       "      <th>Income_Category</th>\n",
       "      <th>Card_Category</th>\n",
       "      <th>...</th>\n",
       "      <th>Education</th>\n",
       "      <th>Self_Employed</th>\n",
       "      <th>ApplicantIncome</th>\n",
       "      <th>CoapplicantIncome</th>\n",
       "      <th>LoanAmount</th>\n",
       "      <th>Loan_Amount_Term</th>\n",
       "      <th>Credit_History</th>\n",
       "      <th>Property_Area</th>\n",
       "      <th>Loan_Status</th>\n",
       "      <th>cust_id</th>\n",
       "    </tr>\n",
       "  </thead>\n",
       "  <tbody>\n",
       "    <tr>\n",
       "      <th>0</th>\n",
       "      <td>cust_1</td>\n",
       "      <td>768805383</td>\n",
       "      <td>Existing Customer</td>\n",
       "      <td>45.0</td>\n",
       "      <td>M</td>\n",
       "      <td>3</td>\n",
       "      <td>High School</td>\n",
       "      <td>Married</td>\n",
       "      <td>$60K - $80K</td>\n",
       "      <td>Blue</td>\n",
       "      <td>...</td>\n",
       "      <td>Graduate</td>\n",
       "      <td>No</td>\n",
       "      <td>5849</td>\n",
       "      <td>0.0</td>\n",
       "      <td>146.412162</td>\n",
       "      <td>360.0</td>\n",
       "      <td>1.0</td>\n",
       "      <td>Urban</td>\n",
       "      <td>Y</td>\n",
       "      <td>cust_1</td>\n",
       "    </tr>\n",
       "    <tr>\n",
       "      <th>1</th>\n",
       "      <td>cust_2</td>\n",
       "      <td>818770008</td>\n",
       "      <td>Existing Customer</td>\n",
       "      <td>49.0</td>\n",
       "      <td>F</td>\n",
       "      <td>5</td>\n",
       "      <td>Graduate</td>\n",
       "      <td>Single</td>\n",
       "      <td>Less than $40K</td>\n",
       "      <td>Blue</td>\n",
       "      <td>...</td>\n",
       "      <td>Graduate</td>\n",
       "      <td>No</td>\n",
       "      <td>4583</td>\n",
       "      <td>1508.0</td>\n",
       "      <td>128.000000</td>\n",
       "      <td>360.0</td>\n",
       "      <td>1.0</td>\n",
       "      <td>Rural</td>\n",
       "      <td>N</td>\n",
       "      <td>cust_2</td>\n",
       "    </tr>\n",
       "    <tr>\n",
       "      <th>2</th>\n",
       "      <td>cust_3</td>\n",
       "      <td>713982108</td>\n",
       "      <td>Existing Customer</td>\n",
       "      <td>51.0</td>\n",
       "      <td>M</td>\n",
       "      <td>3</td>\n",
       "      <td>Graduate</td>\n",
       "      <td>Married</td>\n",
       "      <td>$80K - $120K</td>\n",
       "      <td>Blue</td>\n",
       "      <td>...</td>\n",
       "      <td>Graduate</td>\n",
       "      <td>Yes</td>\n",
       "      <td>3000</td>\n",
       "      <td>0.0</td>\n",
       "      <td>66.000000</td>\n",
       "      <td>360.0</td>\n",
       "      <td>1.0</td>\n",
       "      <td>Urban</td>\n",
       "      <td>Y</td>\n",
       "      <td>cust_3</td>\n",
       "    </tr>\n",
       "    <tr>\n",
       "      <th>3</th>\n",
       "      <td>cust_4</td>\n",
       "      <td>769911858</td>\n",
       "      <td>Existing Customer</td>\n",
       "      <td>40.0</td>\n",
       "      <td>F</td>\n",
       "      <td>4</td>\n",
       "      <td>High School</td>\n",
       "      <td>Unknown</td>\n",
       "      <td>Less than $40K</td>\n",
       "      <td>Blue</td>\n",
       "      <td>...</td>\n",
       "      <td>Not Graduate</td>\n",
       "      <td>No</td>\n",
       "      <td>2583</td>\n",
       "      <td>2358.0</td>\n",
       "      <td>120.000000</td>\n",
       "      <td>360.0</td>\n",
       "      <td>1.0</td>\n",
       "      <td>Urban</td>\n",
       "      <td>Y</td>\n",
       "      <td>cust_4</td>\n",
       "    </tr>\n",
       "    <tr>\n",
       "      <th>4</th>\n",
       "      <td>cust_5</td>\n",
       "      <td>709106358</td>\n",
       "      <td>Existing Customer</td>\n",
       "      <td>40.0</td>\n",
       "      <td>M</td>\n",
       "      <td>3</td>\n",
       "      <td>Uneducated</td>\n",
       "      <td>Married</td>\n",
       "      <td>$60K - $80K</td>\n",
       "      <td>Blue</td>\n",
       "      <td>...</td>\n",
       "      <td>Graduate</td>\n",
       "      <td>No</td>\n",
       "      <td>6000</td>\n",
       "      <td>0.0</td>\n",
       "      <td>141.000000</td>\n",
       "      <td>360.0</td>\n",
       "      <td>1.0</td>\n",
       "      <td>Urban</td>\n",
       "      <td>Y</td>\n",
       "      <td>cust_5</td>\n",
       "    </tr>\n",
       "  </tbody>\n",
       "</table>\n",
       "<p>5 rows × 36 columns</p>\n",
       "</div>"
      ],
      "text/plain": [
       "   cust_id  CLIENTNUM     Attrition_Flag  Customer_Age Gender  \\\n",
       "0   cust_1  768805383  Existing Customer          45.0      M   \n",
       "1   cust_2  818770008  Existing Customer          49.0      F   \n",
       "2   cust_3  713982108  Existing Customer          51.0      M   \n",
       "3   cust_4  769911858  Existing Customer          40.0      F   \n",
       "4   cust_5  709106358  Existing Customer          40.0      M   \n",
       "\n",
       "   Dependent_count Education_Level Marital_Status Income_Category  \\\n",
       "0                3     High School        Married     $60K - $80K   \n",
       "1                5        Graduate         Single  Less than $40K   \n",
       "2                3        Graduate        Married    $80K - $120K   \n",
       "3                4     High School        Unknown  Less than $40K   \n",
       "4                3      Uneducated        Married     $60K - $80K   \n",
       "\n",
       "  Card_Category  ...     Education  Self_Employed  ApplicantIncome  \\\n",
       "0          Blue  ...      Graduate             No             5849   \n",
       "1          Blue  ...      Graduate             No             4583   \n",
       "2          Blue  ...      Graduate            Yes             3000   \n",
       "3          Blue  ...  Not Graduate             No             2583   \n",
       "4          Blue  ...      Graduate             No             6000   \n",
       "\n",
       "   CoapplicantIncome  LoanAmount  Loan_Amount_Term  Credit_History  \\\n",
       "0                0.0  146.412162             360.0             1.0   \n",
       "1             1508.0  128.000000             360.0             1.0   \n",
       "2                0.0   66.000000             360.0             1.0   \n",
       "3             2358.0  120.000000             360.0             1.0   \n",
       "4                0.0  141.000000             360.0             1.0   \n",
       "\n",
       "   Property_Area  Loan_Status  cust_id  \n",
       "0          Urban            Y   cust_1  \n",
       "1          Rural            N   cust_2  \n",
       "2          Urban            Y   cust_3  \n",
       "3          Urban            Y   cust_4  \n",
       "4          Urban            Y   cust_5  \n",
       "\n",
       "[5 rows x 36 columns]"
      ]
     },
     "execution_count": 45,
     "metadata": {},
     "output_type": "execute_result"
    }
   ],
   "source": [
    "final_df.head()"
   ]
  },
  {
   "cell_type": "code",
   "execution_count": 46,
   "id": "7c23cd74",
   "metadata": {},
   "outputs": [
    {
     "data": {
      "text/plain": [
       "cust_id                     0\n",
       "CLIENTNUM                   0\n",
       "Attrition_Flag              0\n",
       "Customer_Age                0\n",
       "Gender                      0\n",
       "Dependent_count             0\n",
       "Education_Level             0\n",
       "Marital_Status              0\n",
       "Income_Category             0\n",
       "Card_Category               0\n",
       "Months_on_book              0\n",
       "Total_Relationship_Count    0\n",
       "Months_Inactive_12_mon      0\n",
       "Contacts_Count_12_mon       0\n",
       "Credit_Limit                0\n",
       "Total_Revolving_Bal         0\n",
       "Avg_Open_To_Buy             0\n",
       "Total_Amt_Chng_Q4_Q1        0\n",
       "Total_Trans_Amt             0\n",
       "Total_Trans_Ct              0\n",
       "Total_Ct_Chng_Q4_Q1         0\n",
       "Avg_Utilization_Ratio       0\n",
       "Loan_ID                     0\n",
       "Gender                      0\n",
       "Married                     0\n",
       "Dependents                  0\n",
       "Education                   0\n",
       "Self_Employed               0\n",
       "ApplicantIncome             0\n",
       "CoapplicantIncome           0\n",
       "LoanAmount                  0\n",
       "Loan_Amount_Term            0\n",
       "Credit_History              0\n",
       "Property_Area               0\n",
       "Loan_Status                 0\n",
       "cust_id                     0\n",
       "dtype: int64"
      ]
     },
     "execution_count": 46,
     "metadata": {},
     "output_type": "execute_result"
    }
   ],
   "source": [
    "\n",
    "final_df.isnull().sum()"
   ]
  },
  {
   "cell_type": "markdown",
   "id": "b60bb982",
   "metadata": {},
   "source": [
    "## Data Visualization of customer and loan combined."
   ]
  },
  {
   "cell_type": "code",
   "execution_count": 47,
   "id": "d6b2846e",
   "metadata": {},
   "outputs": [],
   "source": [
    "#connect to mysql to get the data using join query.\n",
    "try:\n",
    "    data_df=pd.read_sql('''select c.cust_id,l.loan_ID,c.Gender,l.loanAmount,l.Loan_Status,c.Education_Level,c.Marital_Status,c.customer_age from automobile.customer c join automobile.loan l on c.cust_id=l.cust_id;\n",
    "    ''', engine)\n",
    "except:\n",
    "    print('Error to connect to Database')\n"
   ]
  },
  {
   "cell_type": "code",
   "execution_count": 48,
   "id": "34c8953d",
   "metadata": {},
   "outputs": [
    {
     "name": "stdout",
     "output_type": "stream",
     "text": [
      "<class 'pandas.core.frame.DataFrame'>\n",
      "RangeIndex: 396 entries, 0 to 395\n",
      "Data columns (total 8 columns):\n",
      " #   Column           Non-Null Count  Dtype  \n",
      "---  ------           --------------  -----  \n",
      " 0   cust_id          396 non-null    object \n",
      " 1   loan_ID          396 non-null    object \n",
      " 2   Gender           396 non-null    object \n",
      " 3   loanAmount       396 non-null    float64\n",
      " 4   Loan_Status      396 non-null    object \n",
      " 5   Education_Level  396 non-null    object \n",
      " 6   Marital_Status   396 non-null    object \n",
      " 7   customer_age     396 non-null    float64\n",
      "dtypes: float64(2), object(6)\n",
      "memory usage: 24.9+ KB\n"
     ]
    }
   ],
   "source": [
    "data_df.info()\n"
   ]
  },
  {
   "cell_type": "code",
   "execution_count": 49,
   "id": "206212fb",
   "metadata": {},
   "outputs": [
    {
     "name": "stdout",
     "output_type": "stream",
     "text": [
      "M    249\n",
      "F    147\n",
      "Name: Gender, dtype: int64\n"
     ]
    },
    {
     "data": {
      "image/png": "[encoded data removed]",
      "text/plain": [
       "<Figure size 432x288 with 1 Axes>"
      ]
     },
     "metadata": {
      "needs_background": "light"
     },
     "output_type": "display_data"
    }
   ],
   "source": [
    "#Visualization of total customer based on gender applied for loan\n",
    "\n",
    "plt.title(' Male and Female Cusomers')\n",
    "\n",
    "\n",
    "#cust_pd.gender.value_counts().plot(kind='bar')\n",
    "\n",
    "x = ['Male','Female']\n",
    "y = data_df['Gender'].value_counts()\n",
    "print(y)\n",
    "plt.barh(x, y)\n",
    "plt.title('Female and Male customers Applied for loan')\n",
    "for index, value in enumerate(y):\n",
    "    plt.text(value, index,\n",
    "    str(value))\n",
    "plt.show()"
   ]
  },
  {
   "cell_type": "code",
   "execution_count": 50,
   "id": "66f202ef",
   "metadata": {},
   "outputs": [
    {
     "data": {
      "image/png": "[encoded data removed]",
      "text/plain": [
       "<Figure size 360x360 with 1 Axes>"
      ]
     },
     "metadata": {
      "needs_background": "light"
     },
     "output_type": "display_data"
    }
   ],
   "source": [
    "#Vizualizing the Stacked plot of property area vs loan status\n",
    "pd.crosstab(data_df.Gender,data_df.Loan_Status).plot(kind=\"bar\", stacked=True, figsize=(5,5), color=['#333333','#dd1818'])\n",
    "plt.title('Gender vs Loan Status')\n",
    "plt.xlabel('Gender')\n",
    "plt.ylabel('Frequency')\n",
    "plt.xticks(rotation=0)\n",
    "plt.show()"
   ]
  },
  {
   "cell_type": "code",
   "execution_count": 51,
   "id": "5899323a",
   "metadata": {},
   "outputs": [],
   "source": [
    "#Connect to mysql to get the data usin the join query\n",
    "try:\n",
    "    comb_df=pd.read_sql('''select c.cust_id,l.loan_ID,c.Gender,l.loanAmount,l.Loan_Status,c.Education_Level,c.Marital_Status,c.customer_age from automobile.customer c left join automobile.loan l on c.cust_id=l.cust_id;\n",
    "    ''', engine)\n",
    "except:\n",
    "    print('Error to connect to Database')"
   ]
  },
  {
   "cell_type": "code",
   "execution_count": 52,
   "id": "dce0e297",
   "metadata": {},
   "outputs": [
    {
     "data": {
      "text/plain": [
       "cust_id               0\n",
       "loan_ID            9731\n",
       "Gender                0\n",
       "loanAmount         9731\n",
       "Loan_Status        9731\n",
       "Education_Level       0\n",
       "Marital_Status        0\n",
       "customer_age          0\n",
       "dtype: int64"
      ]
     },
     "execution_count": 52,
     "metadata": {},
     "output_type": "execute_result"
    }
   ],
   "source": [
    "#Record of customer who has not taken loan.\n",
    "comb_df.isnull().sum()"
   ]
  },
  {
   "cell_type": "code",
   "execution_count": 53,
   "id": "d62d6260",
   "metadata": {},
   "outputs": [
    {
     "data": {
      "image/png": "[encoded data removed]",
      "text/plain": [
       "<Figure size 432x288 with 1 Axes>"
      ]
     },
     "metadata": {},
     "output_type": "display_data"
    }
   ],
   "source": [
    "#Visualization of customer who has taken a loan and who has not taken loan.\n",
    "try:\n",
    "    data_no_loan=comb_df['loan_ID'].isnull().sum()\n",
    "    data_loan=comb_df['loan_ID'].notnull().sum()\n",
    "    mylabels = 'Customer with Loan', 'Customer without Loan'\n",
    "    mycolors = ['Red', 'blue']\n",
    "    data=np.array([data_loan,data_no_loan])\n",
    "    explode = (0, 0.2)\n",
    "    plt.pie(data, labels = mylabels, colors = mycolors,explode=explode,shadow=True,autopct = '%1.1f%%',startangle = 90)\n",
    "    plt.title(\"Loan Pie Chart\")\n",
    "    plt.legend(title = \" Customers vs Loan :\")\n",
    "    plt.show()\n",
    "except:\n",
    "    print('Error')"
   ]
  },
  {
   "cell_type": "code",
   "execution_count": null,
   "id": "2b03f655",
   "metadata": {},
   "outputs": [],
   "source": []
  }
 ],
 "metadata": {
  "kernelspec": {
   "display_name": "Python 3 (ipykernel)",
   "language": "python",
   "name": "python3"
  },
  "language_info": {
   "codemirror_mode": {
    "name": "ipython",
    "version": 3
   },
   "file_extension": ".py",
   "mimetype": "text/x-python",
   "name": "python",
   "nbconvert_exporter": "python",
   "pygments_lexer": "ipython3",
   "version": "3.9.7"
  }
 },
 "nbformat": 4,
 "nbformat_minor": 5
}
